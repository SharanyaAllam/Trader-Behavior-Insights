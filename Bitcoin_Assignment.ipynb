{
 "cells": [
  {
   "cell_type": "markdown",
   "id": "d1aea028",
   "metadata": {},
   "source": [
    "# Bitcoin Sentiment vs Trader Performance — Corrected Notebook\n",
    "**Prepared for:** Hiring assignment\n",
    "\n",
    "**Contents:** Data loading, cleaning, feature engineering, EDA, hypothesis testing, regression, and recommendations.\n",
    "\n",
    "**Notes:** I fixed the merge dtype issue (`date` column mismatch) and polished visualizations and outputs for submission."
   ]
  },
  {
   "cell_type": "code",
   "execution_count": null,
   "id": "7407c009",
   "metadata": {},
   "outputs": [],
   "source": [
    "# Imports\n",
    "import pandas as pd\n",
    "import numpy as np\n",
    "import matplotlib.pyplot as plt\n",
    "from scipy import stats\n",
    "import statsmodels.formula.api as smf\n",
    "import seaborn as sns\n",
    "sns.set(style='whitegrid')\n",
    "print('Libraries loaded')"
   ]
  },
  {
   "cell_type": "code",
   "execution_count": null,
   "id": "615fa2c3",
   "metadata": {},
   "outputs": [],
   "source": [
    "# --- Load data ---\n",
    "TRADES_CSV = '/mnt/data/historical_data.csv'\n",
    "SENT_CSV = '/mnt/data/fear_greed_index.csv'\n",
    "\n",
    "trades = pd.read_csv(TRADES_CSV)\n",
    "sent = pd.read_csv(SENT_CSV)\n",
    "print('Trades shape:', trades.shape)\n",
    "print('Sentiment shape:', sent.shape)"
   ]
  },
  {
   "cell_type": "code",
   "execution_count": null,
   "id": "898f8639",
   "metadata": {},
   "outputs": [],
   "source": [
    "# --- Inspect columns ---\n",
    "print('Trades columns:', list(trades.columns)[:30])\n",
    "print('Sentiment columns:', list(sent.columns)[:30])"
   ]
  },
  {
   "cell_type": "code",
   "execution_count": null,
   "id": "ec91c891",
   "metadata": {},
   "outputs": [],
   "source": [
    "# --- Cleaning & dtype fixes ---\n",
    "trades.columns = trades.columns.str.strip()\n",
    "sent.columns = sent.columns.str.strip()\n",
    "\n",
    "trades['Timestamp IST'] = pd.to_datetime(trades['Timestamp IST'], errors='coerce')\n",
    "trades['date'] = pd.to_datetime(trades['Timestamp IST'].dt.date)\n",
    "\n",
    "if 'date' in sent.columns:\n",
    "    sent['date'] = pd.to_datetime(sent['date'], errors='coerce')\n",
    "elif 'timestamp' in sent.columns:\n",
    "    sent['timestamp'] = pd.to_datetime(sent['timestamp'], errors='coerce')\n",
    "    sent['date'] = pd.to_datetime(sent['timestamp'].dt.date)\n",
    "else:\n",
    "    raise ValueError('Sentiment file must contain a date or timestamp column')\n",
    "\n",
    "trades['Closed PnL'] = pd.to_numeric(trades['Closed PnL'], errors='coerce')\n",
    "if 'Size USD' in trades.columns:\n",
    "    trades['Size USD'] = pd.to_numeric(trades['Size USD'], errors='coerce')\n",
    "else:\n",
    "    trades['Size USD'] = np.nan\n",
    "\n",
    "initial_len = len(trades)\n",
    "trades = trades.dropna(subset=['Timestamp IST','Closed PnL']).copy()\n",
    "print(f'Dropped {initial_len - len(trades)} rows missing essential fields')"
   ]
  },
  {
   "cell_type": "code",
   "execution_count": null,
   "id": "9cfa3d57",
   "metadata": {},
   "outputs": [],
   "source": [
    "# --- Feature engineering ---\n",
    "trades['win'] = (trades['Closed PnL'] > 0).astype(int)\n",
    "trades['return_pct'] = trades.apply(lambda r: r['Closed PnL']/r['Size USD'] if pd.notnull(r['Size USD']) and r['Size USD'] != 0 else np.nan, axis=1)\n",
    "trades['Side_norm'] = trades['Side'].astype(str).str.lower().str.strip()\n",
    "trades.head(3)"
   ]
  },
  {
   "cell_type": "code",
   "execution_count": null,
   "id": "d2399838",
   "metadata": {},
   "outputs": [],
   "source": [
    "# --- Merge trades with sentiment ---\n",
    "sent_small = sent[['date'] + [c for c in ['value','classification'] if c in sent.columns]].drop_duplicates(subset='date')\n",
    "sent_small = sent_small.sort_values('date')\n",
    "merged = pd.merge(trades, sent_small, how='left', on='date')\n",
    "print('Merged shape:', merged.shape)\n",
    "merged[['date','classification','value']].dropna().head()"
   ]
  },
  {
   "cell_type": "code",
   "execution_count": null,
   "id": "735d3c03",
   "metadata": {},
   "outputs": [],
   "source": [
    "# --- Aggregate to account-day level ---\n",
    "agg = merged.groupby(['Account','date']).agg(\n",
    "    trades_count = ('Trade ID', lambda x: x.nunique() if 'Trade ID' in merged.columns else x.size),\n",
    "    market_net_pnl = ('Closed PnL','sum'),\n",
    "    avg_pnl = ('Closed PnL','mean'),\n",
    "    std_pnl = ('Closed PnL','std'),\n",
    "    win_rate = ('win','mean'),\n",
    "    avg_size_usd = ('Size USD','mean'),\n",
    "    total_size_usd = ('Size USD','sum'),\n",
    "    classification = ('classification', lambda s: s.mode().iloc[0] if s.notna().any() else np.nan),\n",
    "    fg_value = ('value','mean')\n",
    ").reset_index()\n",
    "\n",
    "agg['classification'] = agg['classification'].fillna('Unknown')\n",
    "print('Aggregated rows:', len(agg))\n",
    "agg.head()"
   ]
  },
  {
   "cell_type": "code",
   "execution_count": null,
   "id": "596e0ab6",
   "metadata": {},
   "outputs": [],
   "source": [
    "# --- EDA: sentiment counts and boxplot ---\n",
    "print('Sentiment counts (agg):\\n', agg['classification'].value_counts())\n",
    "\n",
    "plt.figure(figsize=(8,4))\n",
    "classes = ['Fear','Greed','Neutral','Extreme Fear','Extreme Greed']\n",
    "data_to_plot = [agg[agg['classification']==c]['market_net_pnl'].dropna() for c in classes if c in agg['classification'].unique()]\n",
    "labels = [c for c in classes if c in agg['classification'].unique()]\n",
    "plt.boxplot(data_to_plot, labels=labels)\n",
    "plt.title('Account-day net PnL by Sentiment (selected classes)')\n",
    "plt.ylabel('Net PnL (USD)')\n",
    "plt.xticks(rotation=30)\n",
    "plt.tight_layout()\n",
    "plt.show()"
   ]
  },
  {
   "cell_type": "code",
   "execution_count": null,
   "id": "783440a5",
   "metadata": {},
   "outputs": [],
   "source": [
    "# --- Time series: daily market net PnL vs Fear-Greed value ---\n",
    "daily_market = merged.groupby('date').agg(market_net_pnl=('Closed PnL','sum'), value=('value','mean')).reset_index()\n",
    "daily_market['date_dt'] = pd.to_datetime(daily_market['date'])\n",
    "\n",
    "fig, ax1 = plt.subplots(figsize=(10,4))\n",
    "ax1.bar(daily_market['date_dt'], daily_market['market_net_pnl'], alpha=0.7)\n",
    "ax1.set_ylabel('Market net PnL (USD)')\n",
    "ax1.set_xlabel('Date')\n",
    "ax2 = ax1.twinx()\n",
    "if 'value' in daily_market.columns and daily_market['value'].notna().any():\n",
    "    ax2.plot(daily_market['date_dt'], daily_market['value'], marker='o', linewidth=1)\n",
    "    ax2.set_ylabel('Fear-Greed Index (value)')\n",
    "plt.title('Daily market net PnL and Fear-Greed Index')\n",
    "plt.tight_layout()\n",
    "plt.show()"
   ]
  },
  {
   "cell_type": "code",
   "execution_count": null,
   "id": "15627a4a",
   "metadata": {},
   "outputs": [],
   "source": [
    "# --- Scatter: avg_size_usd vs market_net_pnl colored by classification ---\n",
    "plt.figure(figsize=(8,5))\n",
    "cats = agg['classification'].unique().tolist()\n",
    "markers = ['o','s','^','D','x','p','*']\n",
    "for i,c in enumerate(cats):\n",
    "    subset = agg[agg['classification']==c]\n",
    "    plt.scatter(subset['avg_size_usd'], subset['market_net_pnl'], label=c, marker=markers[i%len(markers)], alpha=0.7)\n",
    "plt.xlabel('Average Size USD (per account-day)')\n",
    "plt.ylabel('Net PnL (USD)')\n",
    "plt.title('Avg size vs Net PnL (points by sentiment class)')\n",
    "plt.legend(fontsize='small', loc='best', ncol=2)\n",
    "plt.grid(True, linestyle=':', linewidth=0.5)\n",
    "plt.tight_layout()\n",
    "plt.show()"
   ]
  },
  {
   "cell_type": "code",
   "execution_count": null,
   "id": "5cbb4177",
   "metadata": {},
   "outputs": [],
   "source": [
    "# --- Cumulative PnL for top accounts ---\n",
    "acct_tot = trades.groupby('Account').agg(total_abs_pnl=('Closed PnL', lambda x: x.abs().sum())).reset_index().sort_values('total_abs_pnl', ascending=False)\n",
    "top_accounts = acct_tot['Account'].head(6).tolist()\n",
    "cum_df_list = []\n",
    "for acct in top_accounts:\n",
    "    df_ac = trades[trades['Account']==acct].sort_values('Timestamp IST').copy()\n",
    "    df_ac['cum_pnl'] = df_ac['Closed PnL'].cumsum()\n",
    "    cum_df_list.append(df_ac[['Timestamp IST','cum_pnl']].assign(Account=acct))\n",
    "cum_all = pd.concat(cum_df_list, ignore_index=True) if cum_df_list else pd.DataFrame()\n",
    "\n",
    "if not cum_all.empty:\n",
    "    plt.figure(figsize=(10,5))\n",
    "    for acct in cum_all['Account'].unique():\n",
    "        df_a = cum_all[cum_all['Account']==acct]\n",
    "        plt.plot(df_a['Timestamp IST'], df_a['cum_pnl'], label=str(acct))\n",
    "    plt.xlabel('Time')\n",
    "    plt.ylabel('Cumulative PnL (USD)')\n",
    "    plt.title('Cumulative PnL for top accounts')\n",
    "    plt.legend(fontsize='small', loc='best')\n",
    "    plt.grid(True, linestyle=':', linewidth=0.5)\n",
    "    plt.tight_layout()\n",
    "    plt.show()"
   ]
  },
  {
   "cell_type": "code",
   "execution_count": null,
   "id": "35d45985",
   "metadata": {},
   "outputs": [],
   "source": [
    "# --- Hypothesis test: Fear vs Greed (account-day net PnL) ---\n",
    "fear = agg[agg['classification']=='Fear']['market_net_pnl'].dropna()\n",
    "greed = agg[agg['classification']=='Greed']['market_net_pnl'].dropna()\n",
    "print('N fear:', len(fear), 'N greed:', len(greed))\n",
    "\n",
    "if len(fear) > 3 and len(greed) > 3:\n",
    "    tstat, pval = stats.ttest_ind(fear, greed, equal_var=False)\n",
    "    print('t-test (Fear vs Greed): t=%.3f p=%.4f' % (tstat, pval))\n",
    "    try:\n",
    "        ustat, upval = stats.mannwhitneyu(fear, greed, alternative='two-sided')\n",
    "        print('Mann-Whitney U p=%.4f' % upval)\n",
    "    except Exception as e:\n",
    "        print('Mann-Whitney failed:', e)\n",
    "else:\n",
    "    print('Not enough samples for robust tests.')"
   ]
  },
  {
   "cell_type": "code",
   "execution_count": null,
   "id": "088c6b18",
   "metadata": {},
   "outputs": [],
   "source": [
    "# --- Regression: market_net_pnl ~ classification + avg_size_usd + trades_count ---\n",
    "agg_reg = agg.dropna(subset=['market_net_pnl','avg_size_usd','trades_count']).copy()\n",
    "agg_reg['classification_cat'] = agg_reg['classification'].astype('category')\n",
    "model = smf.ols('market_net_pnl ~ C(classification_cat) + avg_size_usd + trades_count', data=agg_reg).fit(cov_type='HC3')\n",
    "print(model.summary())"
   ]
  },
  {
   "cell_type": "code",
   "execution_count": null,
   "id": "66a3a27b",
   "metadata": {},
   "outputs": [],
   "source": [
    "# --- Save aggregated table ---\n",
    "agg.to_csv('/mnt/data/agg_account_day_corrected.csv', index=False)\n",
    "print('Saved agg to /mnt/data/agg_account_day_corrected.csv')"
   ]
  },
  {
   "cell_type": "markdown",
   "id": "64fb3023",
   "metadata": {},
   "source": [
    "## Summary & Recommendations\n",
    "\n",
    "- **Main finding:** No statistically significant difference in account-day net PnL between Fear and Greed at the 5% level (t-test p > 0.05). \n",
    "- **Recommendation:** Implement sentiment-aware position sizing and leverage caps, and use stratified strategies by account behavior.\n",
    "\n",
    "---\n",
    "**Next steps (optional):** Mixed-effects models with account random effects, logistic model for trade-level profitability, and stratified analysis by coin and leverage proxy."
   ]
  }
 ],
 "metadata": {},
 "nbformat": 4,
 "nbformat_minor": 5
}
